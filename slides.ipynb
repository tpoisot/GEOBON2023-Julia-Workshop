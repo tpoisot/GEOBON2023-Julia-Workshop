{
  "cells": [
    {
      "cell_type": "raw",
      "metadata": {},
      "source": [
        "---\n",
        "title: \"Building an interpretable SDM from scratch\"\n",
        "subtitle: \"using Julia 1.9\"\n",
        "author:\n",
        "    name: \"Timothée Poisot\"\n",
        "    email: timothee.poisot@umontreal.ca\n",
        "institute: \"Université de Montréal\"\n",
        "title-slide-attributes: \n",
        "  data-background-image: https://cdn.pixabay.com/photo/2017/03/29/11/29/nepal-2184940_960_720.jpg\n",
        "  data-background-opacity: \"0.15\"\n",
        "bibliography: references.bib\n",
        "csl: https://www.zotero.org/styles/ecology-letters\n",
        "---"
      ],
      "id": "4bf6f64c"
    },
    {
      "cell_type": "markdown",
      "metadata": {},
      "source": [
        "## Overview\n",
        "\n",
        "-   Build a *simple* classifier to predict the distribution of a species\n",
        "\n",
        "-   No, I will not tell you which species, it's a large North American mammal\n",
        "\n",
        "-   Use this as an opportunity to talk about interpretable ML\n",
        "\n",
        "-   Discuss which biases are appropriate in a predictive model\n",
        "\n",
        "::: footer\n",
        "CC BY 4.0 - Timothée Poisot\n",
        ":::\n",
        "\n",
        "------------------------------------------------------------------------\n",
        "\n",
        "::: r-fit-text\n",
        "We care a lot about the\n",
        "\n",
        "**process**\n",
        "\n",
        "and only a little about the\n",
        "\n",
        "**product**\n",
        ":::\n",
        "\n",
        "------------------------------------------------------------------------\n",
        "\n",
        "## Why...\n",
        "\n",
        "... think of SDMs as a ML problem?\n",
        "\n",
        ":   They are (they really, really are, see @beery2021)\n",
        "\n",
        "... think of explainable ML for SDM?\n",
        "\n",
        ":   Uptake of models *requires* transparent predictions\n",
        "\n",
        "... not tell us which species this is about?\n",
        "\n",
        ":   Because this is the point (you'll see)\n",
        "\n",
        "## Do try this at home!\n",
        "\n",
        "💻 + 📔 + 🗺️ at `https://github.com/tpoisot/InterpretableSDMWithJulia/`\n"
      ],
      "id": "5f8f2d4c"
    },
    {
      "cell_type": "code",
      "metadata": {},
      "source": [
        "#| label: Include the packages we need\n",
        "#| echo: true\n",
        "#| output: false\n",
        "include(joinpath(\"code\", \"pkg.jl\")); # Dependencies\n",
        "include(joinpath(\"code\", \"nbc.jl\")); # Naive Bayes Classifier\n",
        "include(joinpath(\"code\", \"bioclim.jl\")); # BioClim model\n",
        "include(joinpath(\"code\", \"confusion.jl\")); # Confusion matrix utilities\n",
        "include(joinpath(\"code\", \"splitters.jl\")); # Cross-validation (part one)\n",
        "include(joinpath(\"code\", \"crossvalidate.jl\")); # Cross-validation (part deux)\n",
        "include(joinpath(\"code\", \"variableselection.jl\")); # Variable selection\n",
        "include(joinpath(\"code\", \"shapley.jl\")); # Shapley values\n",
        "include(joinpath(\"code\", \"palettes.jl\")); # Accessible color palettes"
      ],
      "id": "Include-the-packages-we-need",
      "execution_count": null,
      "outputs": []
    },
    {
      "cell_type": "markdown",
      "metadata": {},
      "source": [
        "## Species occurrences\n"
      ],
      "id": "557de00c"
    },
    {
      "cell_type": "code",
      "metadata": {},
      "source": [
        "#| label: Get the species data\n",
        "#| eval: true\n",
        "#| echo: true\n",
        "#| output: false\n",
        "sightings = CSV.File(\"occurrences.csv\")\n",
        "occ = [\n",
        "    (record.longitude, record.latitude)\n",
        "    for record in sightings\n",
        "    if record.classification == \"Class A\"\n",
        "]\n",
        "filter!(r -> -90 <= r[2] <= 90, occ)\n",
        "filter!(r -> -180 <= r[1] <= 180, occ)\n",
        "boundingbox = (\n",
        "    left = minimum(first.(occ)),\n",
        "    right = maximum(first.(occ)),\n",
        "    bottom = minimum(last.(occ)),\n",
        "    top = maximum(last.(occ)),\n",
        ")"
      ],
      "id": "Get-the-species-data",
      "execution_count": null,
      "outputs": []
    },
    {
      "cell_type": "markdown",
      "metadata": {},
      "source": [
        "## Bioclimatic data\n",
        "\n",
        "We collect BioClim data from CHELSA v1, using `SpeciesDistributionToolkit`\n"
      ],
      "id": "a20f7b37"
    },
    {
      "cell_type": "code",
      "metadata": {},
      "source": [
        "#| label: Download the BioClim data from WorldClim2\n",
        "#| eval: true\n",
        "#| echo: true\n",
        "#| output: false\n",
        "provider = RasterData(WorldClim2, BioClim)\n",
        "opts = (; resolution=5.0)\n",
        "temperature = SimpleSDMPredictor(provider, layer=1; opts..., boundingbox...)"
      ],
      "id": "Download-the-BioClim-data-from-WorldClim2",
      "execution_count": null,
      "outputs": []
    },
    {
      "cell_type": "markdown",
      "metadata": {},
      "source": [
        "::: footer\n",
        "BioClim data from @karger2020; see @dansereau2021 for more about the packages\n",
        ":::\n",
        "\n",
        "## Bioclimatic data\n",
        "\n",
        "We set the pixels with only open water to `nothing`\n"
      ],
      "id": "dd1e2ac9"
    },
    {
      "cell_type": "code",
      "metadata": {},
      "source": [
        "#| label: Get the open water pixels\n",
        "#| eval: true\n",
        "#| output: false\n",
        "#| echo: true\n",
        "water = \n",
        "    SimpleSDMPredictor(RasterData(EarthEnv, LandCover), layer=12; boundingbox...)\n",
        "land = similar(temperature, Bool)\n",
        "replace!(land, false => true)\n",
        "for k in keys(land)\n",
        "    if !isnothing(water[k])\n",
        "        if water[k] == 100\n",
        "            land[k] = false\n",
        "        end\n",
        "    end\n",
        "end\n",
        "temperature = mask(land, temperature)"
      ],
      "id": "Get-the-open-water-pixels",
      "execution_count": null,
      "outputs": []
    },
    {
      "cell_type": "markdown",
      "metadata": {},
      "source": [
        "::: footer\n",
        "Land-cover data from @tuanmu2014\n",
        ":::\n",
        "\n",
        "## Where are we so far?\n"
      ],
      "id": "4c96adaa"
    },
    {
      "cell_type": "code",
      "metadata": {},
      "source": [
        "#| echo: false\n",
        "fig = Figure(; resolution=(900, 500))\n",
        "ax = Axis(fig[1,1]; xlabel=\"Longitude\", ylabel=\"Latitude\", aspect=DataAspect())\n",
        "hm = heatmap!(ax, temperature, colormap=[:lightgrey])\n",
        "Colorbar(fig[1,2], hm; tellheight=false)\n",
        "scatter!(ax, occ; color=:black, marker=:cross, markersize=3)\n",
        "current_figure()"
      ],
      "id": "d66f979e",
      "execution_count": null,
      "outputs": []
    },
    {
      "cell_type": "markdown",
      "metadata": {},
      "source": [
        "## Spatial thinning\n",
        "\n",
        "We limit the occurrences to one per grid cell, assigned to the center of the grid cell\n"
      ],
      "id": "4c4ba834"
    },
    {
      "cell_type": "code",
      "metadata": {},
      "source": [
        "#| label: Make the layer for presences\n",
        "#| echo: true\n",
        "#| eval: true\n",
        "#| output: false\n",
        "presence_layer = similar(temperature, Bool)\n",
        "for i in axes(occ, 1)\n",
        "    if ~isnothing(presence_layer[occ[i]...])\n",
        "        presence_layer[occ[i]...] = true\n",
        "    end\n",
        "end"
      ],
      "id": "Make-the-layer-for-presences",
      "execution_count": null,
      "outputs": []
    },
    {
      "cell_type": "markdown",
      "metadata": {},
      "source": [
        "## Background points generation\n",
        "\n",
        "We generate background points proportionally to the distance away from observations, with a 10km buffer around each point with no background point allowed:\n"
      ],
      "id": "cb856359"
    },
    {
      "cell_type": "code",
      "metadata": {},
      "source": [
        "#| label: Make the pseudo-absence buffer\n",
        "#| eval: true\n",
        "#| echo: true\n",
        "#| output: false\n",
        "possible_background = pseudoabsencemask(DistanceToEvent, presence_layer)"
      ],
      "id": "Make-the-pseudo-absence-buffer",
      "execution_count": null,
      "outputs": []
    },
    {
      "cell_type": "markdown",
      "metadata": {},
      "source": [
        "And then we sample three pseudo-absence for each occurrence:\n"
      ],
      "id": "9307ed40"
    },
    {
      "cell_type": "code",
      "metadata": {},
      "source": [
        "#| label: Make the absence layer\n",
        "#| echo: true\n",
        "#| eval: true\n",
        "#| output: false\n",
        "absence_layer = backgroundpoints(\n",
        "    (x -> x^1.01).(possible_background), \n",
        "    3sum(presence_layer);\n",
        "    replace=false\n",
        ")"
      ],
      "id": "Make-the-absence-layer",
      "execution_count": null,
      "outputs": []
    },
    {
      "cell_type": "markdown",
      "metadata": {},
      "source": [
        "::: footer\n",
        "See @barbet-massin2012 for more on background points\n",
        ":::\n",
        "\n",
        "## Background points cleaning\n",
        "\n",
        "We can remove all of the information that is neither a presence nor a pseudo-absence\n"
      ],
      "id": "4afcb181"
    },
    {
      "cell_type": "code",
      "metadata": {},
      "source": [
        "#| label: Pseudo-absence/presence remove\n",
        "#| output: false\n",
        "#| echo: true\n",
        "replace!(absence_layer, false => nothing)\n",
        "replace!(presence_layer, false => nothing)"
      ],
      "id": "Pseudo-absencepresence-remove",
      "execution_count": null,
      "outputs": []
    },
    {
      "cell_type": "markdown",
      "metadata": {},
      "source": [
        "## Data overview\n"
      ],
      "id": "5d980cb5"
    },
    {
      "cell_type": "code",
      "metadata": {},
      "source": [
        "scatter!(keys(absence_layer); color = :red, marker=:xcross, markersize=2)\n",
        "current_figure()"
      ],
      "id": "b2a3e261",
      "execution_count": null,
      "outputs": []
    },
    {
      "cell_type": "code",
      "metadata": {},
      "source": [
        "#| label: Save the stack of layers\n",
        "#| echo: false\n",
        "#| output: false\n",
        "#| eval: true\n",
        "predictors = [\n",
        "    mask(land, SimpleSDMPredictor(provider; layer = l, opts..., boundingbox...))\n",
        "    for l in layers(provider)\n",
        "]"
      ],
      "id": "Save-the-stack-of-layers",
      "execution_count": null,
      "outputs": []
    },
    {
      "cell_type": "markdown",
      "metadata": {},
      "source": [
        "## Preparing the responses and variables\n"
      ],
      "id": "ba7cf304"
    },
    {
      "cell_type": "code",
      "metadata": {},
      "source": [
        "#| label: Assemble y and X\n",
        "#| echo: true\n",
        "#| output: false\n",
        "Xpresence = hcat([bioclim_var[keys(presence_layer)] for bioclim_var in predictors]...)\n",
        "ypresence = fill(true, length(presence_layer))\n",
        "Xabsence = hcat([bioclim_var[keys(absence_layer)] for bioclim_var in predictors]...)\n",
        "yabsence = fill(false, length(absence_layer))\n",
        "X = vcat(Xpresence, Xabsence)\n",
        "y = vcat(ypresence, yabsence)"
      ],
      "id": "Assemble-y-and-X",
      "execution_count": null,
      "outputs": []
    },
    {
      "cell_type": "code",
      "metadata": {},
      "source": [
        "#| output: false\n",
        "#| echo: false\n",
        "#| eval: true\n",
        "bclay = layers(RasterData(WorldClim2, BioClim))\n",
        "bcdes = layerdescriptions(RasterData(WorldClim2, BioClim))\n",
        "presences = Tuple.(keys(presence_layer))\n",
        "absences = Tuple.(keys(absence_layer))\n",
        "variables = [(bc, var_trim(bcdes[bc])) for bc in bclay]"
      ],
      "id": "245b164b",
      "execution_count": null,
      "outputs": []
    },
    {
      "cell_type": "markdown",
      "metadata": {},
      "source": [
        "## The model -- Naive Bayes Classifier\n",
        "\n",
        "Prediction:\n",
        "\n",
        "$$\n",
        "P(+|x) = \\frac{P(+)}{P(x)}P(x|+)\n",
        "$$\n",
        "\n",
        "Decision rule:\n",
        "\n",
        "$$\n",
        "\\hat y = \\text{argmax}_j \\, P(\\mathbf{c}_j)\\prod_i P(\\mathbf{x}_i|\\mathbf{c}_j)\n",
        "$$\n",
        "\n",
        "::: footer\n",
        "With $n$ instances and $f$ features, NBC trains *and* predicts in $\\mathcal{O}(n\\times f)$\n",
        ":::\n",
        "\n",
        "## The model -- Naive Bayes Classifier\n",
        "\n",
        "Assumption of Gaussian distributions:\n",
        "\n",
        "$$\n",
        "P(x|+) = \\text{pdf}(x, \\mathcal{N}(\\mu_+, \\sigma_+))\n",
        "$$\n",
        "\n",
        "## Cross-validation\n",
        "\n",
        "We keep an **unseen** *testing* set -- this will be used at the very end to report expected model performance\n"
      ],
      "id": "491ea47b"
    },
    {
      "cell_type": "code",
      "metadata": {},
      "source": [
        "#| label: Testing set\n",
        "#| echo: true\n",
        "#| output: false\n",
        "idx, tidx = holdout(y, X; permute=true)"
      ],
      "id": "Testing-set",
      "execution_count": null,
      "outputs": []
    },
    {
      "cell_type": "markdown",
      "metadata": {},
      "source": [
        "For *validation*, we will run k-folds\n"
      ],
      "id": "2fa91ddd"
    },
    {
      "cell_type": "code",
      "metadata": {},
      "source": [
        "#| label: k-folds\n",
        "#| echo: true\n",
        "#| output: false\n",
        "ty, tX = y[idx], X[idx,:]\n",
        "folds = kfold(ty, tX; k=15, permute=true)\n",
        "k = length(folds)"
      ],
      "id": "k-folds",
      "execution_count": null,
      "outputs": []
    },
    {
      "cell_type": "markdown",
      "metadata": {},
      "source": [
        "::: footer\n",
        "See @valavi2018 for more on cross-validation\n",
        ":::\n",
        "\n",
        "## A note on cross-validation\n",
        "\n",
        "All models share the same folds\n",
        "\n",
        ":   we can compare the validation performance across experiments to select the best model\n",
        "\n",
        "Model performance can be compared\n",
        "\n",
        ":   we average the relevant summary statistics over each validation set\n",
        "\n",
        "Testing set is *only* for future evaluation\n",
        "\n",
        ":   we can only use it once and report the expected performance *of the best model*\n",
        "\n",
        "## Baseline performance\n",
        "\n",
        "We need to get a sense of how difficult the classification problem is:\n"
      ],
      "id": "302b9775"
    },
    {
      "cell_type": "code",
      "metadata": {},
      "source": [
        "#| echo: true\n",
        "#| output: false\n",
        "N_v0 = crossvalidate(naivebayes, ty, tX, folds)\n",
        "B_v0 = crossvalidate(bioclim, ty, tX, folds, eps())"
      ],
      "id": "648e184b",
      "execution_count": null,
      "outputs": []
    },
    {
      "cell_type": "markdown",
      "metadata": {},
      "source": [
        "This uses an un-tuned model with all variables and reports the average over all validation sets. In addition, we will always use the BioClim model as a comparison.\n",
        "\n",
        "## Measures on the confusion matrix {.smaller}\n",
        "\n",
        "|     | BioClim                       | NBC                           |\n",
        "|-----|-------------------------------|-------------------------------|\n",
        "| FPR | `{julia} sm(fpr, B_v0)`       | `{julia} sm(fpr, N_v0)`       |\n",
        "| FNR | `{julia} sm(fnr, B_v0)`       | `{julia} sm(fnr, N_v0)`       |\n",
        "| TPR | `{julia} sm(tpr, B_v0)`       | `{julia} sm(tpr, N_v0)`       |\n",
        "| TNR | `{julia} sm(tnr, B_v0)`       | `{julia} sm(tnr, N_v0)`       |\n",
        "| TSS | `{julia} sm(trueskill, B_v0)` | `{julia} sm(trueskill, N_v0)` |\n",
        "| MCC | `{julia} sm(mcc, B_v0)`       | `{julia} sm(mcc, N_v0)`       |\n",
        "\n",
        "::: footer\n",
        "It's a good idea to check the values for the training sets too...\n",
        ":::\n",
        "\n",
        "## Variable selection\n",
        "\n",
        "We add variables one at a time, until the Matthew's Correlation Coefficient stops increasing -- we keep annual temperature, isothermality, mean diurnal range, and annual precipitation\n"
      ],
      "id": "2298c028"
    },
    {
      "cell_type": "code",
      "metadata": {},
      "source": [
        "#| echo: true\n",
        "#| output: false\n",
        "available_variables = forwardselection(ty, tX, folds, naivebayes, mcc)"
      ],
      "id": "cda2aaf8",
      "execution_count": null,
      "outputs": []
    },
    {
      "cell_type": "markdown",
      "metadata": {},
      "source": [
        "This method identifies `{julia} length(available_variables)` variables, some of which are:\n",
        "\n",
        "1.  `{julia} variables[available_variables[1]][2]`\n",
        "\n",
        "2.  `{julia} variables[available_variables[2]][2]`\n",
        "\n",
        "3.  `{julia} variables[available_variables[3]][2]`\n",
        "\n",
        "## Variable selection?\n",
        "\n",
        "-   Constrained variable selection\n",
        "\n",
        "-   VIF threshold (over the extent or over document occurrences?)\n",
        "\n",
        "-   PCA for dimensionality reduction *v.* Whitening for colinearity removal\n",
        "\n",
        "-   Potential for data leakage: data transformations don't exist, they are just models we can train\n",
        "\n",
        "## Model with variable selection\n"
      ],
      "id": "c6d23174"
    },
    {
      "cell_type": "code",
      "metadata": {},
      "source": [
        "#| echo: true\n",
        "#| output: false\n",
        "N_v1 = crossvalidate(naivebayes, ty, tX[:,available_variables], folds)\n",
        "B_v1 = crossvalidate(bioclim, ty, tX[:,available_variables], folds, eps())"
      ],
      "id": "c0effd0b",
      "execution_count": null,
      "outputs": []
    },
    {
      "cell_type": "markdown",
      "metadata": {},
      "source": [
        "## Measures on the confusion matrix {.smaller}\n",
        "\n",
        "|     | BioClim                       | NBC                           | BioClim (v.s.)                | NBC (v.s.)                    |\n",
        "|---------------|---------------|---------------|---------------|---------------|\n",
        "| FPR | `{julia} sm(fpr, B_v0)`       | `{julia} sm(fpr, N_v0)`       | `{julia} sm(fpr, B_v1)`       | `{julia} sm(fpr, N_v1)`       |\n",
        "| FNR | `{julia} sm(fnr, B_v0)`       | `{julia} sm(fnr, N_v0)`       | `{julia} sm(fnr, B_v1)`       | `{julia} sm(fnr, N_v1)`       |\n",
        "| TPR | `{julia} sm(tpr, B_v0)`       | `{julia} sm(tpr, N_v0)`       | `{julia} sm(tpr, B_v1)`       | `{julia} sm(tpr, N_v1)`       |\n",
        "| TNR | `{julia} sm(tnr, B_v0)`       | `{julia} sm(tnr, N_v0)`       | `{julia} sm(tnr, B_v1)`       | `{julia} sm(tnr, N_v1)`       |\n",
        "| TSS | `{julia} sm(trueskill, B_v0)` | `{julia} sm(trueskill, N_v0)` | `{julia} sm(trueskill, B_v1)` | `{julia} sm(trueskill, N_v1)` |\n",
        "| MCC | `{julia} sm(mcc, B_v0)`       | `{julia} sm(mcc, N_v0)`       | `{julia} sm(mcc, B_v1)`       | `{julia} sm(mcc, N_v1)`       |\n",
        "\n",
        "## How do we make the model better?\n",
        "\n",
        "The NBC is a *probabilistic classifier* returning $P(+|\\mathbf{x})$\n",
        "\n",
        "The *decision rule* is to assign a presence when $P(\\cdot) > 0.5$\n",
        "\n",
        "But $P(\\cdot) > \\tau$ is a far more general approach, and we can use learning curves to identify $\\tau$\n",
        "\n",
        "## Thresholding the model\n"
      ],
      "id": "d060c453"
    },
    {
      "cell_type": "code",
      "metadata": {},
      "source": [
        "#| echo: true\n",
        "#| output: false\n",
        "thr = LinRange(0.0, 1.0, 500)\n",
        "T = hcat([crossvalidate(naivebayes, ty, tX[:,available_variables], folds, t) for t in thr]...)"
      ],
      "id": "5619e68c",
      "execution_count": null,
      "outputs": []
    },
    {
      "cell_type": "markdown",
      "metadata": {},
      "source": [
        "## But how do we pick the threshold?\n"
      ],
      "id": "06a6e176"
    },
    {
      "cell_type": "code",
      "metadata": {},
      "source": [
        "#| echo: false\n",
        "fig = Figure(; resolution=(900, 450))\n",
        "\n",
        "g1 = GridLayout(fig[1:2,1])\n",
        "\n",
        "xt = 0.0:0.2:1.0\n",
        "yt = 0.0:0.25:1.0\n",
        "\n",
        "ax_mcc = Axis(g1[1,1], ylabel=\"MCC\"; yticks=yt, xticks=xt)\n",
        "ax_fpr = Axis(g1[2,1], ylabel=\"False Pos. Rate\"; yaxisposition=:right, yticks=yt, xticks=xt)\n",
        "ax_fnr = Axis(g1[3,1], xlabel=\"Threshold\", ylabel=\"False Neg. Rate\", yticks=yt, xticks=xt)\n",
        "\n",
        "hidexdecorations!(ax_fpr, grid=false)\n",
        "hidexdecorations!(ax_mcc, grid=false)\n",
        "rowgap!(g1, 6)\n",
        "\n",
        "scores = mcc.(T)\n",
        "μ = vec(mean(scores; dims=1))\n",
        "\n",
        "for i in axes(T, 1)\n",
        "    lines!(ax_mcc, thr, mcc.(T[i,:]), color=:grey, alpha=0.6)\n",
        "    lines!(ax_fpr, thr, fpr.(T[i,:]), color=:grey, alpha=0.6)\n",
        "    lines!(ax_fnr, thr, fnr.(T[i,:]), color=:grey, alpha=0.6)\n",
        "end\n",
        "\n",
        "mmax, m = findmax(μ)\n",
        "scatter!(ax_mcc, thr[m], mmax, color=:red, markersize=10)\n",
        "rangebars!(ax_mcc, [thr[m]], 0.98*[minimum(scores[:,m])], 1.02*[maximum(scores[:,m])], color=:red, whiskerwidth=10)\n",
        "\n",
        "xlims!(ax_mcc, low=0.0, high=1.0)\n",
        "ylims!(ax_mcc, low=0.0, high=1.0)\n",
        "xlims!(ax_fpr, low=0.0, high=1.0)\n",
        "ylims!(ax_fpr, low=0.0, high=1.0)\n",
        "xlims!(ax_fnr, low=0.0, high=1.0)\n",
        "ylims!(ax_fnr, low=0.0, high=1.0)\n",
        "\n",
        "ax_roc = Axis(fig[1,2], xlabel=\"False Positive Rate\", ylabel=\"True Positive Rate\", aspect=1)\n",
        "ax_pr = Axis(fig[2,2], xlabel=\"True Positive Rate\", ylabel=\"Positive Pred. Value\", aspect=1)\n",
        "\n",
        "for i in axes(T, 1)\n",
        "    scatter!(ax_roc, fpr.(T[i,:]), tpr.(T[i,:]), color=:grey, markersize=2, alpha=0.6)\n",
        "    scatter!(ax_pr, tpr.(T[i,:]), ppv.(T[i,:]), color=:grey, markersize=2, alpha=0.6)\n",
        "end\n",
        "\n",
        "arrows!(ax_roc, [0.5], [0.5], [-0.2], [0.2], color=:blue, linewidth=4)\n",
        "arrows!(ax_roc, [0.5], [0.5], [0.2], [-0.2], color=:red, linewidth=2, linestyle=:dash)\n",
        "\n",
        "lines!(ax_roc, [0.0, 1.0], [0.0, 1.0], color=:black, linestyle=:dash)\n",
        "lines!(ax_pr, [0.0, 1.0], [0.5, 0.5], color=:black, linestyle=:dash)\n",
        "\n",
        "arrows!(ax_pr, [0.5], [0.5], [0.2], [0.2], color=:blue, linewidth=4)\n",
        "arrows!(ax_pr, [0.5], [0.5], [-0.2], [-0.2], color=:red, linewidth=2, linestyle=:dash)\n",
        "\n",
        "xlims!(ax_roc, low=0.0, high=1.0)\n",
        "ylims!(ax_roc, low=0.0, high=1.0)\n",
        "xlims!(ax_pr, low=0.0, high=1.0)\n",
        "ylims!(ax_pr, low=0.0, high=1.0)\n",
        "\n",
        "current_figure()"
      ],
      "id": "a229c22f",
      "execution_count": null,
      "outputs": []
    },
    {
      "cell_type": "markdown",
      "metadata": {},
      "source": [
        "## Tuned model with selected variables\n"
      ],
      "id": "f2e24011"
    },
    {
      "cell_type": "code",
      "metadata": {},
      "source": [
        "#| echo: true\n",
        "#| output: false\n",
        "N_v2 = crossvalidate(naivebayes, ty, tX[:,available_variables], folds, thr[m])"
      ],
      "id": "6d5db0e4",
      "execution_count": null,
      "outputs": []
    },
    {
      "cell_type": "markdown",
      "metadata": {},
      "source": [
        "## Measures on the confusion matrix {.smaller}\n",
        "\n",
        "|     | BioClim                       | NBC                           | BioClim (v.s.)                | NBC (v.s.)                    | NBC (v.s. + tuning)           |\n",
        "|------------|------------|------------|------------|------------|------------|\n",
        "| FPR | `{julia} sm(fpr, B_v0)`       | `{julia} sm(fpr, N_v0)`       | `{julia} sm(fpr, B_v1)`       | `{julia} sm(fpr, N_v1)`       | `{julia} sm(fpr, N_v2)`       |\n",
        "| FNR | `{julia} sm(fnr, B_v0)`       | `{julia} sm(fnr, N_v0)`       | `{julia} sm(fnr, B_v1)`       | `{julia} sm(fnr, N_v1)`       | `{julia} sm(fnr, N_v2)`       |\n",
        "| TPR | `{julia} sm(tpr, B_v0)`       | `{julia} sm(tpr, N_v0)`       | `{julia} sm(tpr, B_v1)`       | `{julia} sm(tpr, N_v1)`       | `{julia} sm(tpr, N_v2)`       |\n",
        "| TNR | `{julia} sm(tnr, B_v0)`       | `{julia} sm(tnr, N_v0)`       | `{julia} sm(tnr, B_v1)`       | `{julia} sm(tnr, N_v1)`       | `{julia} sm(tnr, N_v2)`       |\n",
        "| TSS | `{julia} sm(trueskill, B_v0)` | `{julia} sm(trueskill, N_v0)` | `{julia} sm(trueskill, B_v1)` | `{julia} sm(trueskill, N_v1)` | `{julia} sm(trueskill, N_v2)` |\n",
        "| MCC | `{julia} sm(mcc, B_v0)`       | `{julia} sm(mcc, N_v0)`       | `{julia} sm(mcc, B_v1)`       | `{julia} sm(mcc, N_v1)`       | `{julia} sm(mcc, N_v2)`       |\n",
        "\n",
        "## How do we make the model better?\n",
        "\n",
        "The NBC is a *Bayesian classifier* returning $P(+|\\mathbf{x})$\n",
        "\n",
        "The *actual probability* depends on $P(+)$\n",
        "\n",
        "There is no reason not to also tune $P(+)$ (jointly with other hyper-parameters)!\n",
        "\n",
        "## Joint tuning of hyper-parameters\n"
      ],
      "id": "ee3ec640"
    },
    {
      "cell_type": "code",
      "metadata": {},
      "source": [
        "#| echo: true\n",
        "#| output: false\n",
        "thr = LinRange(0.0, 1.0, 50)\n",
        "pplus = LinRange(0.0, 1.0, 50)\n",
        "T = [crossvalidate(naivebayes, ty, tX[:,available_variables], folds, t; presence=prior) for t in thr, prior in pplus]\n",
        "best_mcc, params = findmax(map(v -> mean(mcc.(v)), T))\n",
        "τ = thr[params.I[1]]\n",
        "ppres = pplus[params.I[2]]"
      ],
      "id": "4fdc021d",
      "execution_count": null,
      "outputs": []
    },
    {
      "cell_type": "markdown",
      "metadata": {},
      "source": [
        "## Tuned (again) model with selected variables\n"
      ],
      "id": "7f38921b"
    },
    {
      "cell_type": "code",
      "metadata": {},
      "source": [
        "#| echo: true\n",
        "#| output: false\n",
        "N_v3 = crossvalidate(naivebayes, ty, tX[:,available_variables], folds, τ; presence=ppres)"
      ],
      "id": "5fed5858",
      "execution_count": null,
      "outputs": []
    },
    {
      "cell_type": "markdown",
      "metadata": {},
      "source": [
        "## Measures on the confusion matrix {.smaller}\n",
        "\n",
        "|     | BioClim                       | NBC (v0)                      | NBC (v1)                      | NBC (v2)                      | NBC (v3)                      |\n",
        "|------------|------------|-------------|------------|------------|------------|\n",
        "| FPR | `{julia} sm(fpr, B_v0)`       | `{julia} sm(fpr, N_v0)`       | `{julia} sm(fpr, N_v1)`       | `{julia} sm(fpr, N_v2)`       | `{julia} sm(fpr, N_v3)`       |\n",
        "| FNR | `{julia} sm(fnr, B_v0)`       | `{julia} sm(fnr, N_v0)`       | `{julia} sm(fnr, N_v1)`       | `{julia} sm(fnr, N_v2)`       | `{julia} sm(fnr, N_v3)`       |\n",
        "| TPR | `{julia} sm(tpr, B_v0)`       | `{julia} sm(tpr, N_v0)`       | `{julia} sm(tpr, N_v1)`       | `{julia} sm(tpr, N_v2)`       | `{julia} sm(tpr, N_v3)`       |\n",
        "| TNR | `{julia} sm(tnr, B_v0)`       | `{julia} sm(tnr, N_v0)`       | `{julia} sm(tnr, N_v1)`       | `{julia} sm(tnr, N_v2)`       | `{julia} sm(tnr, N_v3)`       |\n",
        "| TSS | `{julia} sm(trueskill, B_v0)` | `{julia} sm(trueskill, N_v0)` | `{julia} sm(trueskill, N_v1)` | `{julia} sm(trueskill, N_v2)` | `{julia} sm(trueskill, N_v3)` |\n",
        "| MCC | `{julia} sm(mcc, B_v0)`       | `{julia} sm(mcc, N_v0)`       | `{julia} sm(mcc, N_v1)`       | `{julia} sm(mcc, N_v2)`       | `{julia} sm(mcc, N_v3)`       |\n",
        "\n",
        "## Tuned model performance\n",
        "\n",
        "We can retrain over *all* the training data\n"
      ],
      "id": "d4cf5e1e"
    },
    {
      "cell_type": "code",
      "metadata": {},
      "source": [
        "#| echo: true\n",
        "#| output: false\n",
        "finalmodel = naivebayes(ty, tX[:,available_variables]; presence=ppres)\n",
        "prediction = vec(mapslices(finalmodel, X[tidx,available_variables]; dims=2))\n",
        "C = ConfusionMatrix(prediction, y[tidx], τ)"
      ],
      "id": "07b7efff",
      "execution_count": null,
      "outputs": []
    },
    {
      "cell_type": "markdown",
      "metadata": {},
      "source": [
        "## Estimated performance\n",
        "\n",
        "|     | Final model                |\n",
        "|-----|----------------------------|\n",
        "| FPR | `{julia} sm(fpr, C)`       |\n",
        "| FNR | `{julia} sm(fnr, C)`       |\n",
        "| TPR | `{julia} sm(tpr, C)`       |\n",
        "| TNR | `{julia} sm(tnr, C)`       |\n",
        "| TSS | `{julia} sm(trueskill, C)` |\n",
        "| MCC | `{julia} sm(mcc, C)`       |\n",
        "\n",
        "## Acceptable bias\n",
        "\n",
        "-   false positives: we expect that our knowledge of the distribution is incomplete, and *this is why we train a model*\n",
        "\n",
        "-   false negatives: the detection of the species is imperfect (we will reveal the species soon)\n",
        "\n",
        "## Prediction for each pixel\n"
      ],
      "id": "51446524"
    },
    {
      "cell_type": "code",
      "metadata": {},
      "source": [
        "#| echo: false\n",
        "#| eval: true\n",
        "#| output: false\n",
        "samplemodels = [naivebayes(ty, tX[b,available_variables]; presence=ppres) for b in bootstrap(ty, tX)]"
      ],
      "id": "89b382c9",
      "execution_count": null,
      "outputs": []
    },
    {
      "cell_type": "code",
      "metadata": {},
      "source": [
        "#| echo: true\n",
        "#| output: false\n",
        "prediction = similar(temperature, Float64)\n",
        "variability = similar(temperature, Float64)\n",
        "uncertainty = similar(temperature, Float64)\n",
        "Threads.@threads for k in keys(prediction)\n",
        "    pred_k = [p[k] for p in predictors[available_variables]]\n",
        "    bootstraps = [\n",
        "            samplemodel(pred_k)\n",
        "            for samplemodel in samplemodels\n",
        "        ]\n",
        "    prediction[k] = finalmodel(pred_k)\n",
        "    variability[k] = iqr(bootstraps)\n",
        "    uncertainty[k] = entropy(prediction[k])\n",
        "end"
      ],
      "id": "3d1b0e63",
      "execution_count": null,
      "outputs": []
    },
    {
      "cell_type": "markdown",
      "metadata": {},
      "source": [
        "## Tuned model - prediction\n"
      ],
      "id": "527ab9bd"
    },
    {
      "cell_type": "code",
      "metadata": {},
      "source": [
        "#| echo: false\n",
        "#| output: true\n",
        "fig = Figure(; resolution=(900, 500))\n",
        "ax = Axis(fig[1,1]; xlabel=\"Longitude\", ylabel=\"Latitude\", aspect=DataAspect())\n",
        "hm = heatmap!(ax, prediction, colormap=cgrad(iridescent), colorrange=(0., 1.))\n",
        "Colorbar(fig[1,2], hm; tellheight=false)\n",
        "current_figure()"
      ],
      "id": "3e3da6e9",
      "execution_count": null,
      "outputs": []
    },
    {
      "cell_type": "markdown",
      "metadata": {},
      "source": [
        "## Tuned model - variability in output\n"
      ],
      "id": "016b0631"
    },
    {
      "cell_type": "code",
      "metadata": {},
      "source": [
        "#| echo: false\n",
        "#| output: true\n",
        "fig = Figure(; resolution=(900, 500))\n",
        "ax = Axis(fig[1,1]; xlabel=\"Longitude\", ylabel=\"Latitude\", aspect=DataAspect())\n",
        "hm = heatmap!(ax, variability, colormap=cgrad(iridescent), colorrange=extrema(variability))\n",
        "Colorbar(fig[1,2], hm; tellheight=false)\n",
        "current_figure()"
      ],
      "id": "4875eaea",
      "execution_count": null,
      "outputs": []
    },
    {
      "cell_type": "markdown",
      "metadata": {},
      "source": [
        "::: footer\n",
        "IQR for 50 bootstrap replicates\n",
        ":::\n",
        "\n",
        "## Tuned model - entropy in probability\n"
      ],
      "id": "123c278d"
    },
    {
      "cell_type": "code",
      "metadata": {},
      "source": [
        "#| echo: false\n",
        "#| output: true\n",
        "fig = Figure(; resolution=(900, 500))\n",
        "ax = Axis(fig[1,1]; xlabel=\"Longitude\", ylabel=\"Latitude\", aspect=DataAspect())\n",
        "hm = heatmap!(ax, uncertainty, colormap=cgrad(iridescent), colorrange=(0., 1.))\n",
        "Colorbar(fig[1,2], hm; tellheight=false)\n",
        "current_figure()"
      ],
      "id": "c141a99d",
      "execution_count": null,
      "outputs": []
    },
    {
      "cell_type": "markdown",
      "metadata": {},
      "source": [
        "::: footer\n",
        "Entropy (in bits) of the NBC probability\n",
        ":::\n",
        "\n",
        "## Tuned model - range\n"
      ],
      "id": "f3a4eec9"
    },
    {
      "cell_type": "code",
      "metadata": {},
      "source": [
        "#| echo: false\n",
        "#| output: true\n",
        "fig = Figure(; resolution=(900, 500))\n",
        "ax = Axis(fig[1,1]; xlabel=\"Longitude\", ylabel=\"Latitude\", aspect=DataAspect())\n",
        "hm = heatmap!(prediction .>= τ; colormap = cgrad([:lightgrey, :black]; alpha = 0.3))\n",
        "Colorbar(fig[1,2], hm; tellheight=false)\n",
        "current_figure()"
      ],
      "id": "357def2a",
      "execution_count": null,
      "outputs": []
    },
    {
      "cell_type": "markdown",
      "metadata": {},
      "source": [
        "::: footer\n",
        "Probability \\> `{julia} round(thr[m]; digits=3)`\n",
        ":::\n",
        "\n",
        "## Predicting the predictions?\n",
        "\n",
        "Shapley values (Monte-Carlo approximation): if we mix the variables across two observations, how important is the $i$-th variable?\n",
        "\n",
        "Expresses \"importance\" as an additive factor on top of the *average* prediction (here: average prob. of occurrence)\n"
      ],
      "id": "909eb185"
    },
    {
      "cell_type": "code",
      "metadata": {},
      "source": [
        "#| echo: true\n",
        "#| output: false\n",
        "shapval = [similar(first(predictors), Float64) for i in eachindex(available_variables)]\n",
        "Threads.@threads for k in keys(shapval[1])\n",
        "    x = [p[k] for p in predictors[available_variables]]\n",
        "    for i in axes(shapval, 1)\n",
        "        shapval[i][k] = shapleyvalues(finalmodel, tX[:,available_variables], x, i; M=50)\n",
        "        if isnan(shapval[i][k])\n",
        "            shapval[i][k] = 0.0\n",
        "        end\n",
        "    end\n",
        "end"
      ],
      "id": "65a7dbc4",
      "execution_count": null,
      "outputs": []
    },
    {
      "cell_type": "markdown",
      "metadata": {},
      "source": [
        "## Importance of variables\n"
      ],
      "id": "f31da737"
    },
    {
      "cell_type": "code",
      "metadata": {},
      "source": [
        "#| echo: true\n",
        "varimp = sum.(map(abs, shapval))\n",
        "varimp ./= sum(varimp)\n",
        "for v in sortperm(varimp, rev=true)\n",
        "    vname = variables[available_variables[v]][2]\n",
        "    vctr = round(Int, varimp[v]*100)\n",
        "    println(\"$(vname) - $(vctr)%\")\n",
        "end"
      ],
      "id": "5b70eae1",
      "execution_count": null,
      "outputs": []
    },
    {
      "cell_type": "markdown",
      "metadata": {},
      "source": [
        "There is a difference between **contributing to model performance** and **contributing to model explainability**\n",
        "\n",
        "## Top three variables\n"
      ],
      "id": "1b0d7fd0"
    },
    {
      "cell_type": "code",
      "metadata": {},
      "source": [
        "#| echo: false\n",
        "#| output: true\n",
        "fig = Figure(; resolution=(1500, 900))\n",
        "\n",
        "totalvar = sum(map(abs, shapval))\n",
        "\n",
        "gl = fig[1,1] = GridLayout()\n",
        "\n",
        "fpos = 1\n",
        "for i in sortperm(varimp; rev=true)[1:3]\n",
        "    ax_mp = Axis(gl[fpos,1], aspect=DataAspect()) # Absolute contribution\n",
        "    scl = maximum(abs.(extrema(shapval[i]))).*(-1,1)\n",
        "    heatmap!(ax_mp, shapval[i], colorrange=scl, colormap=cgrad(nightfall), aspect=DataAspect())\n",
        "    hidexdecorations!(ax_mp)\n",
        "    hideydecorations!(ax_mp)\n",
        "\n",
        "    ax_pp = Axis(gl[fpos,2], aspect=DataAspect()) # Relative contribution\n",
        "    relcon = abs(shapval[i])/totalvar\n",
        "    heatmap!(ax_pp, relcon, colorrange=(0, 1), colormap=cgrad(iridescent), aspect=DataAspect())\n",
        "    hidexdecorations!(ax_pp)\n",
        "    hideydecorations!(ax_pp)\n",
        "\n",
        "    ax_pr = Axis(gl[fpos,3], title=variables[available_variables[i]][2]) # Partial response\n",
        "    ylims!(ax_pr, scl)\n",
        "    hexbin!(ax_pr, predictors[available_variables[i]], shapval[i], bins=200, colormap=cgrad(sunset))\n",
        "    fpos += 1\n",
        "end\n",
        "\n",
        "current_figure()"
      ],
      "id": "d41f0b9b",
      "execution_count": null,
      "outputs": []
    },
    {
      "cell_type": "markdown",
      "metadata": {},
      "source": [
        "## Most determinant predictor\n"
      ],
      "id": "5d05a673"
    },
    {
      "cell_type": "code",
      "metadata": {},
      "source": [
        "shapmax = mosaic(argmax, map(abs, shapval[sortperm(varimp; rev=true)]))\n",
        "for k in keys(shapmax)\n",
        "    if shapmax[k] > 3\n",
        "        shapmax[k] = 4\n",
        "    end\n",
        "end\n",
        "pal = cgrad([colorant\"#ddaa33\", colorant\"#bb5566\", colorant\"#004488\", colorant\"#000000\"], 4, categorical=true)\n",
        "fig = Figure(; resolution=(900, 500))\n",
        "ax = Axis(fig[1,1]; xlabel=\"Longitude\", ylabel=\"Latitude\", aspect=DataAspect())\n",
        "hm = heatmap!(ax, shapmax, colormap=pal)\n",
        "Colorbar(fig[1,2], hm; tellheight=false)\n",
        "current_figure()"
      ],
      "id": "31d89a3b",
      "execution_count": null,
      "outputs": []
    },
    {
      "cell_type": "markdown",
      "metadata": {},
      "source": [
        "## But wait...\n",
        "\n",
        "> What do you think the species was?\n",
        "\n",
        "## Take-home\n",
        "\n",
        "-   building a model is *incremental*\n",
        "\n",
        "-   each step adds arbitrary decisions we can control for, justify, or live with\n",
        "\n",
        "-   we can provide explanations for every single prediction\n",
        "\n",
        "-   free online textbook (in development) at `https://tpoisot.github.io/DataSciForBiodivSci/`\n",
        "\n",
        "## References"
      ],
      "id": "6c1c7cd3"
    }
  ],
  "metadata": {
    "kernelspec": {
      "name": "julia-1.9",
      "language": "julia",
      "display_name": "Julia 1.9.3"
    }
  },
  "nbformat": 4,
  "nbformat_minor": 5
}